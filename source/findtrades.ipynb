{
 "cells": [
  {
   "cell_type": "code",
   "execution_count": 1,
   "id": "f0dcf21d-b368-48a5-9bd0-4a87c7c959be",
   "metadata": {},
   "outputs": [],
   "source": [
    "# Exemplo de logs em diferentes níveis\n",
    "#logging.debug(\"Esta é uma mensagem de debug\")\n",
    "#logging.info(\"Ação da aplicação registrada com nível info\")\n",
    "#logging.warning(\"Este é um aviso\")\n",
    "#logging.error(\"Este é um erro\")\n",
    "#logging.critical(\"Este é um erro crítico\")"
   ]
  },
  {
   "cell_type": "markdown",
   "id": "3b26044f-a198-4bad-9235-50f8eed31de5",
   "metadata": {},
   "source": [
    "# FIND TRADES"
   ]
  },
  {
   "cell_type": "markdown",
   "id": "56b2a2fe-b674-471b-be17-b5e0b1294dcb",
   "metadata": {
    "jp-MarkdownHeadingCollapsed": true
   },
   "source": [
    "## BIBLIOTECAS"
   ]
  },
  {
   "cell_type": "code",
   "execution_count": 2,
   "id": "75000b94-8356-4d5f-85de-92ee9fe70a7c",
   "metadata": {},
   "outputs": [],
   "source": [
    "import yfinance as yf\n",
    "import pandas as pd\n",
    "import threading\n",
    "import os\n",
    "import logging\n",
    "import shutil"
   ]
  },
  {
   "cell_type": "markdown",
   "id": "dcd51d49-247f-4d1b-90e5-0efc6880557a",
   "metadata": {},
   "source": [
    "## PARAMETRIZAÇÃO"
   ]
  },
  {
   "cell_type": "code",
   "execution_count": 3,
   "id": "fb6a03a7-38fb-4be5-9689-436f1008b6c1",
   "metadata": {},
   "outputs": [],
   "source": [
    "###PARÂMETROS\n",
    "\n",
    "#Configurando o log no terminal\n",
    "logging.basicConfig(\n",
    "    level=logging.INFO,  # Definir o nível de log\n",
    "    format='%(asctime)s - %(levelname)s - %(message)s',  # Formato de saída\n",
    "    force=True\n",
    ")\n",
    "\n",
    "#Configurando pastas\n",
    "path_Data = '../data'\n",
    "path_Data_STG = path_Data + '/STG'\n",
    "\n",
    "#Lista de ações para baixar\n",
    "acoes = ['BBAS3.SA', 'BBSE3.SA', 'TAEE11.SA', 'UNIP6.SA', 'TRPL4.SA']"
   ]
  },
  {
   "cell_type": "markdown",
   "id": "c08f1712-e7e9-4145-b0a0-084f2185c72f",
   "metadata": {
    "jp-MarkdownHeadingCollapsed": true
   },
   "source": [
    "## AUXILIARES"
   ]
  },
  {
   "cell_type": "code",
   "execution_count": 4,
   "id": "5c443bc7-bde6-48c2-bc00-aaf38272db86",
   "metadata": {},
   "outputs": [],
   "source": [
    "def limpar_pasta(caminho_pasta):    \n",
    "    if os.path.exists(caminho_pasta):        \n",
    "        for arquivo in os.listdir(caminho_pasta):\n",
    "            caminho_arquivo = os.path.join(caminho_pasta, arquivo)            \n",
    "            \n",
    "            if os.path.isfile(caminho_arquivo) or os.path.islink(caminho_arquivo):\n",
    "                os.unlink(caminho_arquivo)  \n",
    "            elif os.path.isdir(caminho_arquivo):\n",
    "                shutil.rmtree(caminho_arquivo)          \n",
    "    else:\n",
    "        logging.error(f\"A pasta '{caminho_pasta}' não existe.\")        \n",
    "\n",
    "# Função para criar pastas se não existirem\n",
    "def criar_pasta(caminho):\n",
    "    if not os.path.exists(caminho):\n",
    "        os.makedirs(caminho)\n",
    "        logging.info(f\"Pasta '{caminho}' criada.\")        \n",
    "    else:\n",
    "        limpar_pasta(caminho)\n",
    "        logging.info(f\"Conteúdo da pasta '{caminho}' apagado.\")\n",
    "\n",
    "def baixar_dados_acao(ticker):\n",
    "    logging.info(f\"Baixando dados de {ticker}...\")            \n",
    "    \n",
    "    path_file = path_Data_STG + '/' + ticker.lower() + '.csv'\n",
    "    \n",
    "    acao = yf.Ticker(ticker)\n",
    "    dados = acao.history(period='2y', interval='60m')  # Você pode alterar o período aqui\n",
    "    \n",
    "    dados['CODNEG'] = ticker\n",
    "\n",
    "    logging.info(f\"Salvando dados de {ticker} na stage.\")\n",
    "    dados.to_csv(path_file, sep=';', decimal=',')    \n",
    "    \n",
    "    logging.info(f\"Dados de {ticker} finalizados.\")    "
   ]
  },
  {
   "cell_type": "markdown",
   "id": "394fdb28-3fdb-43a5-accc-ee340a6cde3f",
   "metadata": {},
   "source": [
    "## FLUXO"
   ]
  },
  {
   "cell_type": "code",
   "execution_count": 5,
   "id": "40c2de94-a82c-4694-b0de-85bf3f37b6ec",
   "metadata": {},
   "outputs": [
    {
     "name": "stderr",
     "output_type": "stream",
     "text": [
      "2024-09-09 14:55:40,093 - INFO - Conteúdo da pasta '../data/STG' apagado.\n",
      "2024-09-09 14:55:40,094 - INFO - Baixando dados de BBAS3.SA...\n",
      "2024-09-09 14:55:40,095 - INFO - Baixando dados de BBSE3.SA...\n",
      "2024-09-09 14:55:40,097 - INFO - Baixando dados de TAEE11.SA...\n",
      "2024-09-09 14:55:40,098 - INFO - Baixando dados de UNIP6.SA...\n",
      "2024-09-09 14:55:40,100 - INFO - Baixando dados de TRPL4.SA...\n",
      "2024-09-09 14:55:41,261 - INFO - Salvando dados de BBSE3.SA na stage.\n",
      "2024-09-09 14:55:41,345 - INFO - Dados de BBSE3.SA finalizados.\n",
      "2024-09-09 14:55:41,514 - INFO - Salvando dados de BBAS3.SA na stage.\n",
      "2024-09-09 14:55:41,584 - INFO - Salvando dados de UNIP6.SA na stage.\n",
      "2024-09-09 14:55:41,805 - INFO - Dados de BBAS3.SA finalizados.\n",
      "2024-09-09 14:55:41,875 - INFO - Salvando dados de TAEE11.SA na stage.\n",
      "2024-09-09 14:55:41,918 - INFO - Salvando dados de TRPL4.SA na stage.\n",
      "2024-09-09 14:55:42,015 - INFO - Dados de UNIP6.SA finalizados.\n",
      "2024-09-09 14:55:42,106 - INFO - Dados de TAEE11.SA finalizados.\n",
      "2024-09-09 14:55:42,110 - INFO - Dados de TRPL4.SA finalizados.\n",
      "2024-09-09 14:55:42,111 - INFO - Download de todas as ações completo.\n"
     ]
    }
   ],
   "source": [
    "criar_pasta(path_Data_STG)\n",
    "\n",
    "threads = []\n",
    "\n",
    "# Criar e iniciar uma thread por ação\n",
    "for acao in acoes:\n",
    "    thread = threading.Thread(target=baixar_dados_acao, args=(acao,))\n",
    "    threads.append(thread)\n",
    "    thread.start()\n",
    "\n",
    "# Esperar todas as threads terminarem\n",
    "for thread in threads:\n",
    "    thread.join()\n",
    "\n",
    "logging.info('Download de todas as ações completo.')    "
   ]
  },
  {
   "cell_type": "code",
   "execution_count": null,
   "id": "ead7a875-78cc-4996-a15e-83079a505017",
   "metadata": {},
   "outputs": [],
   "source": []
  },
  {
   "cell_type": "code",
   "execution_count": null,
   "id": "1f269afb-c8c0-4746-b584-bd88bf561ff8",
   "metadata": {},
   "outputs": [],
   "source": []
  },
  {
   "cell_type": "code",
   "execution_count": null,
   "id": "a7928325-6e8a-4680-9034-03ee3a39691e",
   "metadata": {},
   "outputs": [],
   "source": []
  },
  {
   "cell_type": "code",
   "execution_count": null,
   "id": "68749ea9-4f8b-426b-b547-f9f213fd1823",
   "metadata": {},
   "outputs": [],
   "source": []
  },
  {
   "cell_type": "code",
   "execution_count": null,
   "id": "3235bb4a-cf99-4d8a-9ff9-30e8352b5000",
   "metadata": {},
   "outputs": [],
   "source": []
  },
  {
   "cell_type": "code",
   "execution_count": null,
   "id": "a30d4a17-42d6-4eee-89fc-5a744a44462e",
   "metadata": {},
   "outputs": [],
   "source": []
  },
  {
   "cell_type": "code",
   "execution_count": null,
   "id": "47f11caf-dda8-47fa-92c1-7a929a689c91",
   "metadata": {},
   "outputs": [],
   "source": []
  }
 ],
 "metadata": {
  "kernelspec": {
   "display_name": "Python 3 (ipykernel)",
   "language": "python",
   "name": "python3"
  },
  "language_info": {
   "codemirror_mode": {
    "name": "ipython",
    "version": 3
   },
   "file_extension": ".py",
   "mimetype": "text/x-python",
   "name": "python",
   "nbconvert_exporter": "python",
   "pygments_lexer": "ipython3",
   "version": "3.11.2"
  }
 },
 "nbformat": 4,
 "nbformat_minor": 5
}
